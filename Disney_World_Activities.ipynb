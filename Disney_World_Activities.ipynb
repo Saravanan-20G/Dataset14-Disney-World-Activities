{
 "cells": [
  {
   "cell_type": "markdown",
   "metadata": {},
   "source": [
    "# Liabrary"
   ]
  },
  {
   "cell_type": "code",
   "execution_count": 1,
   "metadata": {},
   "outputs": [],
   "source": [
    "import pandas as pd\n",
    "import numpy as np"
   ]
  },
  {
   "cell_type": "markdown",
   "metadata": {},
   "source": [
    "# Dataframe"
   ]
  },
  {
   "cell_type": "code",
   "execution_count": 2,
   "metadata": {},
   "outputs": [],
   "source": [
    "df=pd.read_csv(\"C:\\\\Users\\\\Saravanan\\\\OneDrive\\\\Desktop\\\\Datasets_data\\\\activities.csv\")"
   ]
  },
  {
   "cell_type": "code",
   "execution_count": 3,
   "metadata": {},
   "outputs": [
    {
     "data": {
      "text/html": [
       "<div>\n",
       "<style scoped>\n",
       "    .dataframe tbody tr th:only-of-type {\n",
       "        vertical-align: middle;\n",
       "    }\n",
       "\n",
       "    .dataframe tbody tr th {\n",
       "        vertical-align: top;\n",
       "    }\n",
       "\n",
       "    .dataframe thead th {\n",
       "        text-align: right;\n",
       "    }\n",
       "</style>\n",
       "<table border=\"1\" class=\"dataframe\">\n",
       "  <thead>\n",
       "    <tr style=\"text-align: right;\">\n",
       "      <th></th>\n",
       "      <th>Activity Name</th>\n",
       "      <th>Activity Type</th>\n",
       "      <th>Park ID</th>\n",
       "      <th>Park Name</th>\n",
       "      <th>Timings</th>\n",
       "      <th>Height Restrictions</th>\n",
       "      <th>URL</th>\n",
       "      <th>Location Lat</th>\n",
       "      <th>Location Lng</th>\n",
       "    </tr>\n",
       "  </thead>\n",
       "  <tbody>\n",
       "    <tr>\n",
       "      <th>0</th>\n",
       "      <td>Meet Donald Duck in Mexico</td>\n",
       "      <td>Entertainment</td>\n",
       "      <td>80007838</td>\n",
       "      <td>EPCOT</td>\n",
       "      <td>09:30:00 to 09:30:00, 10:00:00 to 10:00:00, 10...</td>\n",
       "      <td>NaN</td>\n",
       "      <td>https://disneyworld.disney.go.com/entertainmen...</td>\n",
       "      <td>28.371185</td>\n",
       "      <td>-81.547297</td>\n",
       "    </tr>\n",
       "    <tr>\n",
       "      <th>1</th>\n",
       "      <td>Raglan Road Live Entertainment</td>\n",
       "      <td>Entertainment</td>\n",
       "      <td>80007798</td>\n",
       "      <td>NaN</td>\n",
       "      <td>NaN</td>\n",
       "      <td>NaN</td>\n",
       "      <td>https://disneyworld.disney.go.com/entertainmen...</td>\n",
       "      <td>28.371143</td>\n",
       "      <td>-81.517783</td>\n",
       "    </tr>\n",
       "    <tr>\n",
       "      <th>2</th>\n",
       "      <td>Atlantic Dance Hall</td>\n",
       "      <td>Entertainment</td>\n",
       "      <td>80008259</td>\n",
       "      <td>Disney's BoardWalk</td>\n",
       "      <td>20:00:00 to 01:00:00</td>\n",
       "      <td>NaN</td>\n",
       "      <td>https://disneyworld.disney.go.com/entertainmen...</td>\n",
       "      <td>28.367668</td>\n",
       "      <td>-81.557900</td>\n",
       "    </tr>\n",
       "    <tr>\n",
       "      <th>3</th>\n",
       "      <td>Meet Moana at Character Landing</td>\n",
       "      <td>Entertainment</td>\n",
       "      <td>80007823</td>\n",
       "      <td>Disney's Animal Kingdom Theme Park</td>\n",
       "      <td>08:30:00 to 11:30:00, 13:30:00 to 15:45:00</td>\n",
       "      <td>NaN</td>\n",
       "      <td>https://disneyworld.disney.go.com/entertainmen...</td>\n",
       "      <td>28.357086</td>\n",
       "      <td>-81.589374</td>\n",
       "    </tr>\n",
       "    <tr>\n",
       "      <th>4</th>\n",
       "      <td>Springs Overlook</td>\n",
       "      <td>Entertainment</td>\n",
       "      <td>10460</td>\n",
       "      <td>Disney Springs</td>\n",
       "      <td>NaN</td>\n",
       "      <td>NaN</td>\n",
       "      <td>https://disneyworld.disney.go.com/entertainmen...</td>\n",
       "      <td>28.370383</td>\n",
       "      <td>-81.517411</td>\n",
       "    </tr>\n",
       "    <tr>\n",
       "      <th>...</th>\n",
       "      <td>...</td>\n",
       "      <td>...</td>\n",
       "      <td>...</td>\n",
       "      <td>...</td>\n",
       "      <td>...</td>\n",
       "      <td>...</td>\n",
       "      <td>...</td>\n",
       "      <td>...</td>\n",
       "      <td>...</td>\n",
       "    </tr>\n",
       "    <tr>\n",
       "      <th>273</th>\n",
       "      <td>Cotton-Top Tamarins - Disney Animals</td>\n",
       "      <td>Attraction</td>\n",
       "      <td>80007823</td>\n",
       "      <td>Disney's Animal Kingdom Theme Park</td>\n",
       "      <td>NaN</td>\n",
       "      <td>any-height</td>\n",
       "      <td>https://disneyworld.disney.go.com/attractions/...</td>\n",
       "      <td>28.357901</td>\n",
       "      <td>-81.591501</td>\n",
       "    </tr>\n",
       "    <tr>\n",
       "      <th>274</th>\n",
       "      <td>Komodo Dragons - Disney Animals</td>\n",
       "      <td>Attraction</td>\n",
       "      <td>80007823</td>\n",
       "      <td>Disney's Animal Kingdom Theme Park</td>\n",
       "      <td>NaN</td>\n",
       "      <td>any-height</td>\n",
       "      <td>https://disneyworld.disney.go.com/attractions/...</td>\n",
       "      <td>28.359440</td>\n",
       "      <td>-81.589237</td>\n",
       "    </tr>\n",
       "    <tr>\n",
       "      <th>275</th>\n",
       "      <td>\"it's a small world\"</td>\n",
       "      <td>Attraction</td>\n",
       "      <td>80007944</td>\n",
       "      <td>Magic Kingdom Park</td>\n",
       "      <td>07:30:00 to 08:00:00, 08:00:00 to 23:00:00</td>\n",
       "      <td>any-height</td>\n",
       "      <td>https://disneyworld.disney.go.com/attractions/...</td>\n",
       "      <td>28.420482</td>\n",
       "      <td>-81.582039</td>\n",
       "    </tr>\n",
       "    <tr>\n",
       "      <th>276</th>\n",
       "      <td>Bay Slides</td>\n",
       "      <td>Attraction</td>\n",
       "      <td>80007981</td>\n",
       "      <td>Disney's Typhoon Lagoon Water Park</td>\n",
       "      <td>10:00:00 to 18:00:00</td>\n",
       "      <td>60-inches-152-cm-or-shorter</td>\n",
       "      <td>https://disneyworld.disney.go.com/attractions/...</td>\n",
       "      <td>28.365402</td>\n",
       "      <td>-81.529838</td>\n",
       "    </tr>\n",
       "    <tr>\n",
       "      <th>277</th>\n",
       "      <td>Dino-Sue</td>\n",
       "      <td>Attraction</td>\n",
       "      <td>80007823</td>\n",
       "      <td>Disney's Animal Kingdom Theme Park</td>\n",
       "      <td>08:00:00 to 20:00:00</td>\n",
       "      <td>any-height</td>\n",
       "      <td>https://disneyworld.disney.go.com/attractions/...</td>\n",
       "      <td>28.355745</td>\n",
       "      <td>-81.588646</td>\n",
       "    </tr>\n",
       "  </tbody>\n",
       "</table>\n",
       "<p>278 rows × 9 columns</p>\n",
       "</div>"
      ],
      "text/plain": [
       "                            Activity Name  Activity Type   Park ID  \\\n",
       "0              Meet Donald Duck in Mexico  Entertainment  80007838   \n",
       "1          Raglan Road Live Entertainment  Entertainment  80007798   \n",
       "2                     Atlantic Dance Hall  Entertainment  80008259   \n",
       "3         Meet Moana at Character Landing  Entertainment  80007823   \n",
       "4                        Springs Overlook  Entertainment     10460   \n",
       "..                                    ...            ...       ...   \n",
       "273  Cotton-Top Tamarins - Disney Animals     Attraction  80007823   \n",
       "274       Komodo Dragons - Disney Animals     Attraction  80007823   \n",
       "275                  \"it's a small world\"     Attraction  80007944   \n",
       "276                            Bay Slides     Attraction  80007981   \n",
       "277                              Dino-Sue     Attraction  80007823   \n",
       "\n",
       "                              Park Name  \\\n",
       "0                                 EPCOT   \n",
       "1                                   NaN   \n",
       "2                    Disney's BoardWalk   \n",
       "3    Disney's Animal Kingdom Theme Park   \n",
       "4                        Disney Springs   \n",
       "..                                  ...   \n",
       "273  Disney's Animal Kingdom Theme Park   \n",
       "274  Disney's Animal Kingdom Theme Park   \n",
       "275                  Magic Kingdom Park   \n",
       "276  Disney's Typhoon Lagoon Water Park   \n",
       "277  Disney's Animal Kingdom Theme Park   \n",
       "\n",
       "                                               Timings  \\\n",
       "0    09:30:00 to 09:30:00, 10:00:00 to 10:00:00, 10...   \n",
       "1                                                  NaN   \n",
       "2                                 20:00:00 to 01:00:00   \n",
       "3           08:30:00 to 11:30:00, 13:30:00 to 15:45:00   \n",
       "4                                                  NaN   \n",
       "..                                                 ...   \n",
       "273                                                NaN   \n",
       "274                                                NaN   \n",
       "275         07:30:00 to 08:00:00, 08:00:00 to 23:00:00   \n",
       "276                               10:00:00 to 18:00:00   \n",
       "277                               08:00:00 to 20:00:00   \n",
       "\n",
       "             Height Restrictions  \\\n",
       "0                            NaN   \n",
       "1                            NaN   \n",
       "2                            NaN   \n",
       "3                            NaN   \n",
       "4                            NaN   \n",
       "..                           ...   \n",
       "273                   any-height   \n",
       "274                   any-height   \n",
       "275                   any-height   \n",
       "276  60-inches-152-cm-or-shorter   \n",
       "277                   any-height   \n",
       "\n",
       "                                                   URL  Location Lat  \\\n",
       "0    https://disneyworld.disney.go.com/entertainmen...     28.371185   \n",
       "1    https://disneyworld.disney.go.com/entertainmen...     28.371143   \n",
       "2    https://disneyworld.disney.go.com/entertainmen...     28.367668   \n",
       "3    https://disneyworld.disney.go.com/entertainmen...     28.357086   \n",
       "4    https://disneyworld.disney.go.com/entertainmen...     28.370383   \n",
       "..                                                 ...           ...   \n",
       "273  https://disneyworld.disney.go.com/attractions/...     28.357901   \n",
       "274  https://disneyworld.disney.go.com/attractions/...     28.359440   \n",
       "275  https://disneyworld.disney.go.com/attractions/...     28.420482   \n",
       "276  https://disneyworld.disney.go.com/attractions/...     28.365402   \n",
       "277  https://disneyworld.disney.go.com/attractions/...     28.355745   \n",
       "\n",
       "     Location Lng  \n",
       "0      -81.547297  \n",
       "1      -81.517783  \n",
       "2      -81.557900  \n",
       "3      -81.589374  \n",
       "4      -81.517411  \n",
       "..            ...  \n",
       "273    -81.591501  \n",
       "274    -81.589237  \n",
       "275    -81.582039  \n",
       "276    -81.529838  \n",
       "277    -81.588646  \n",
       "\n",
       "[278 rows x 9 columns]"
      ]
     },
     "execution_count": 3,
     "metadata": {},
     "output_type": "execute_result"
    }
   ],
   "source": [
    "df"
   ]
  },
  {
   "cell_type": "code",
   "execution_count": 4,
   "metadata": {},
   "outputs": [
    {
     "data": {
      "text/html": [
       "<div>\n",
       "<style scoped>\n",
       "    .dataframe tbody tr th:only-of-type {\n",
       "        vertical-align: middle;\n",
       "    }\n",
       "\n",
       "    .dataframe tbody tr th {\n",
       "        vertical-align: top;\n",
       "    }\n",
       "\n",
       "    .dataframe thead th {\n",
       "        text-align: right;\n",
       "    }\n",
       "</style>\n",
       "<table border=\"1\" class=\"dataframe\">\n",
       "  <thead>\n",
       "    <tr style=\"text-align: right;\">\n",
       "      <th></th>\n",
       "      <th>Activity Name</th>\n",
       "      <th>Activity Type</th>\n",
       "      <th>Park ID</th>\n",
       "      <th>Park Name</th>\n",
       "      <th>Timings</th>\n",
       "      <th>Height Restrictions</th>\n",
       "      <th>URL</th>\n",
       "      <th>Location Lat</th>\n",
       "      <th>Location Lng</th>\n",
       "    </tr>\n",
       "  </thead>\n",
       "  <tbody>\n",
       "    <tr>\n",
       "      <th>0</th>\n",
       "      <td>Meet Donald Duck in Mexico</td>\n",
       "      <td>Entertainment</td>\n",
       "      <td>80007838</td>\n",
       "      <td>EPCOT</td>\n",
       "      <td>09:30:00 to 09:30:00, 10:00:00 to 10:00:00, 10...</td>\n",
       "      <td>NaN</td>\n",
       "      <td>https://disneyworld.disney.go.com/entertainmen...</td>\n",
       "      <td>28.371185</td>\n",
       "      <td>-81.547297</td>\n",
       "    </tr>\n",
       "    <tr>\n",
       "      <th>1</th>\n",
       "      <td>Raglan Road Live Entertainment</td>\n",
       "      <td>Entertainment</td>\n",
       "      <td>80007798</td>\n",
       "      <td>NaN</td>\n",
       "      <td>NaN</td>\n",
       "      <td>NaN</td>\n",
       "      <td>https://disneyworld.disney.go.com/entertainmen...</td>\n",
       "      <td>28.371143</td>\n",
       "      <td>-81.517783</td>\n",
       "    </tr>\n",
       "  </tbody>\n",
       "</table>\n",
       "</div>"
      ],
      "text/plain": [
       "                    Activity Name  Activity Type   Park ID Park Name  \\\n",
       "0      Meet Donald Duck in Mexico  Entertainment  80007838     EPCOT   \n",
       "1  Raglan Road Live Entertainment  Entertainment  80007798       NaN   \n",
       "\n",
       "                                             Timings Height Restrictions  \\\n",
       "0  09:30:00 to 09:30:00, 10:00:00 to 10:00:00, 10...                 NaN   \n",
       "1                                                NaN                 NaN   \n",
       "\n",
       "                                                 URL  Location Lat  \\\n",
       "0  https://disneyworld.disney.go.com/entertainmen...     28.371185   \n",
       "1  https://disneyworld.disney.go.com/entertainmen...     28.371143   \n",
       "\n",
       "   Location Lng  \n",
       "0    -81.547297  \n",
       "1    -81.517783  "
      ]
     },
     "execution_count": 4,
     "metadata": {},
     "output_type": "execute_result"
    }
   ],
   "source": [
    "df.head(2)"
   ]
  },
  {
   "cell_type": "markdown",
   "metadata": {},
   "source": [
    "# Observation\n",
    "Independent Column -Activity Type,Park Name,Timings,Height Restrictions,Location Lat,Location Lng\n",
    "Dependent Column - Activity Name,Park ID,URL"
   ]
  },
  {
   "cell_type": "code",
   "execution_count": 5,
   "metadata": {},
   "outputs": [],
   "source": [
    "Continuous_Column=['Timings ','Location Lat','Location Lng']\n",
    "Categorical_Column=['Activity Name','Activity Type','Park ID','Height Restrictions','URL','Park Name']"
   ]
  },
  {
   "cell_type": "markdown",
   "metadata": {},
   "source": [
    "# Data Cleaning"
   ]
  },
  {
   "cell_type": "code",
   "execution_count": 9,
   "metadata": {},
   "outputs": [
    {
     "name": "stdout",
     "output_type": "stream",
     "text": [
      "<class 'pandas.core.frame.DataFrame'>\n",
      "RangeIndex: 278 entries, 0 to 277\n",
      "Data columns (total 9 columns):\n",
      " #   Column               Non-Null Count  Dtype  \n",
      "---  ------               --------------  -----  \n",
      " 0   Activity Name        278 non-null    object \n",
      " 1   Activity Type        278 non-null    object \n",
      " 2   Park ID              278 non-null    int64  \n",
      " 3   Park Name            270 non-null    object \n",
      " 4   Timings              209 non-null    object \n",
      " 5   Height Restrictions  179 non-null    object \n",
      " 6   URL                  277 non-null    object \n",
      " 7   Location Lat         270 non-null    float64\n",
      " 8   Location Lng         270 non-null    float64\n",
      "dtypes: float64(2), int64(1), object(6)\n",
      "memory usage: 19.7+ KB\n"
     ]
    }
   ],
   "source": [
    "df.info()"
   ]
  },
  {
   "cell_type": "code",
   "execution_count": 6,
   "metadata": {},
   "outputs": [
    {
     "data": {
      "text/html": [
       "<div>\n",
       "<style scoped>\n",
       "    .dataframe tbody tr th:only-of-type {\n",
       "        vertical-align: middle;\n",
       "    }\n",
       "\n",
       "    .dataframe tbody tr th {\n",
       "        vertical-align: top;\n",
       "    }\n",
       "\n",
       "    .dataframe thead th {\n",
       "        text-align: right;\n",
       "    }\n",
       "</style>\n",
       "<table border=\"1\" class=\"dataframe\">\n",
       "  <thead>\n",
       "    <tr style=\"text-align: right;\">\n",
       "      <th></th>\n",
       "      <th>Park ID</th>\n",
       "      <th>Location Lat</th>\n",
       "      <th>Location Lng</th>\n",
       "    </tr>\n",
       "  </thead>\n",
       "  <tbody>\n",
       "    <tr>\n",
       "      <th>count</th>\n",
       "      <td>2.780000e+02</td>\n",
       "      <td>270.000000</td>\n",
       "      <td>270.000000</td>\n",
       "    </tr>\n",
       "    <tr>\n",
       "      <th>mean</th>\n",
       "      <td>7.597927e+07</td>\n",
       "      <td>28.376507</td>\n",
       "      <td>-81.565965</td>\n",
       "    </tr>\n",
       "    <tr>\n",
       "      <th>std</th>\n",
       "      <td>1.752588e+07</td>\n",
       "      <td>0.024177</td>\n",
       "      <td>0.021580</td>\n",
       "    </tr>\n",
       "    <tr>\n",
       "      <th>min</th>\n",
       "      <td>1.046000e+04</td>\n",
       "      <td>28.351216</td>\n",
       "      <td>-81.593540</td>\n",
       "    </tr>\n",
       "    <tr>\n",
       "      <th>25%</th>\n",
       "      <td>8.000782e+07</td>\n",
       "      <td>28.358001</td>\n",
       "      <td>-81.584103</td>\n",
       "    </tr>\n",
       "    <tr>\n",
       "      <th>50%</th>\n",
       "      <td>8.000784e+07</td>\n",
       "      <td>28.368551</td>\n",
       "      <td>-81.567092</td>\n",
       "    </tr>\n",
       "    <tr>\n",
       "      <th>75%</th>\n",
       "      <td>8.000794e+07</td>\n",
       "      <td>28.375631</td>\n",
       "      <td>-81.550834</td>\n",
       "    </tr>\n",
       "    <tr>\n",
       "      <th>max</th>\n",
       "      <td>8.001040e+07</td>\n",
       "      <td>28.421282</td>\n",
       "      <td>-81.514730</td>\n",
       "    </tr>\n",
       "  </tbody>\n",
       "</table>\n",
       "</div>"
      ],
      "text/plain": [
       "            Park ID  Location Lat  Location Lng\n",
       "count  2.780000e+02    270.000000    270.000000\n",
       "mean   7.597927e+07     28.376507    -81.565965\n",
       "std    1.752588e+07      0.024177      0.021580\n",
       "min    1.046000e+04     28.351216    -81.593540\n",
       "25%    8.000782e+07     28.358001    -81.584103\n",
       "50%    8.000784e+07     28.368551    -81.567092\n",
       "75%    8.000794e+07     28.375631    -81.550834\n",
       "max    8.001040e+07     28.421282    -81.514730"
      ]
     },
     "execution_count": 6,
     "metadata": {},
     "output_type": "execute_result"
    }
   ],
   "source": [
    "df.describe()"
   ]
  },
  {
   "cell_type": "code",
   "execution_count": 7,
   "metadata": {},
   "outputs": [
    {
     "data": {
      "text/plain": [
       "Activity Name           0\n",
       "Activity Type           0\n",
       "Park ID                 0\n",
       "Park Name               8\n",
       "Timings                69\n",
       "Height Restrictions    99\n",
       "URL                     1\n",
       "Location Lat            8\n",
       "Location Lng            8\n",
       "dtype: int64"
      ]
     },
     "execution_count": 7,
     "metadata": {},
     "output_type": "execute_result"
    }
   ],
   "source": [
    "df.isnull().sum()"
   ]
  },
  {
   "cell_type": "code",
   "execution_count": 8,
   "metadata": {},
   "outputs": [
    {
     "name": "stderr",
     "output_type": "stream",
     "text": [
      "C:\\Users\\Saravanan\\AppData\\Local\\Temp\\ipykernel_15440\\4233689608.py:5: FutureWarning: A value is trying to be set on a copy of a DataFrame or Series through chained assignment using an inplace method.\n",
      "The behavior will change in pandas 3.0. This inplace method will never work because the intermediate object on which we are setting values always behaves as a copy.\n",
      "\n",
      "For example, when doing 'df[col].method(value, inplace=True)', try using 'df.method({col: value}, inplace=True)' or df[col] = df[col].method(value) instead, to perform the operation inplace on the original object.\n",
      "\n",
      "\n",
      "  df['URL'].fillna(\"Not Available\", inplace=True)\n",
      "C:\\Users\\Saravanan\\AppData\\Local\\Temp\\ipykernel_15440\\4233689608.py:8: FutureWarning: A value is trying to be set on a copy of a DataFrame or Series through chained assignment using an inplace method.\n",
      "The behavior will change in pandas 3.0. This inplace method will never work because the intermediate object on which we are setting values always behaves as a copy.\n",
      "\n",
      "For example, when doing 'df[col].method(value, inplace=True)', try using 'df.method({col: value}, inplace=True)' or df[col] = df[col].method(value) instead, to perform the operation inplace on the original object.\n",
      "\n",
      "\n",
      "  df['Timings'].fillna(\"Unknown\", inplace=True)\n",
      "C:\\Users\\Saravanan\\AppData\\Local\\Temp\\ipykernel_15440\\4233689608.py:9: FutureWarning: A value is trying to be set on a copy of a DataFrame or Series through chained assignment using an inplace method.\n",
      "The behavior will change in pandas 3.0. This inplace method will never work because the intermediate object on which we are setting values always behaves as a copy.\n",
      "\n",
      "For example, when doing 'df[col].method(value, inplace=True)', try using 'df.method({col: value}, inplace=True)' or df[col] = df[col].method(value) instead, to perform the operation inplace on the original object.\n",
      "\n",
      "\n",
      "  df['Height Restrictions'].fillna(\"Unknown\", inplace=True)\n"
     ]
    }
   ],
   "source": [
    "# Drop rows with missing values in Park Name, Location Lat, and Location Lng\n",
    "df.dropna(subset=['Park Name', 'Location Lat', 'Location Lng'], inplace=True)\n",
    "\n",
    "# Fill missing values in URL with \"Not Available\"\n",
    "df['URL'].fillna(\"Not Available\", inplace=True)\n",
    "\n",
    "# Impute missing values in Timings and Height Restrictions with \"Unknown\"\n",
    "df['Timings'].fillna(\"Unknown\", inplace=True)\n",
    "df['Height Restrictions'].fillna(\"Unknown\", inplace=True)\n"
   ]
  },
  {
   "cell_type": "code",
   "execution_count": 9,
   "metadata": {},
   "outputs": [
    {
     "data": {
      "text/plain": [
       "Activity Name          0\n",
       "Activity Type          0\n",
       "Park ID                0\n",
       "Park Name              0\n",
       "Timings                0\n",
       "Height Restrictions    0\n",
       "URL                    0\n",
       "Location Lat           0\n",
       "Location Lng           0\n",
       "dtype: int64"
      ]
     },
     "execution_count": 9,
     "metadata": {},
     "output_type": "execute_result"
    }
   ],
   "source": [
    "df.isnull().sum()"
   ]
  },
  {
   "cell_type": "code",
   "execution_count": 10,
   "metadata": {},
   "outputs": [
    {
     "data": {
      "text/plain": [
       "0"
      ]
     },
     "execution_count": 10,
     "metadata": {},
     "output_type": "execute_result"
    }
   ],
   "source": [
    "df.duplicated().sum()"
   ]
  },
  {
   "cell_type": "markdown",
   "metadata": {},
   "source": [
    "# Statistical analysis\n",
    "Continuous - Central Limit Theorem, 1-Tailed Test (one-sample t-test)\n",
    "\n",
    "Continuous vs. Continuous - Correlation, 2-Tailed Test (two-sample t-test)\n",
    "\n",
    "Continuous vs. Categorical - ANOVA (Analysis of Variance)\n",
    "\n",
    "Categorical vs. Categorical - Chi-Square Test"
   ]
  },
  {
   "cell_type": "code",
   "execution_count": 12,
   "metadata": {},
   "outputs": [
    {
     "data": {
      "text/html": [
       "<div>\n",
       "<style scoped>\n",
       "    .dataframe tbody tr th:only-of-type {\n",
       "        vertical-align: middle;\n",
       "    }\n",
       "\n",
       "    .dataframe tbody tr th {\n",
       "        vertical-align: top;\n",
       "    }\n",
       "\n",
       "    .dataframe thead th {\n",
       "        text-align: right;\n",
       "    }\n",
       "</style>\n",
       "<table border=\"1\" class=\"dataframe\">\n",
       "  <thead>\n",
       "    <tr style=\"text-align: right;\">\n",
       "      <th></th>\n",
       "      <th>Park ID</th>\n",
       "      <th>Location Lat</th>\n",
       "      <th>Location Lng</th>\n",
       "    </tr>\n",
       "  </thead>\n",
       "  <tbody>\n",
       "    <tr>\n",
       "      <th>Park ID</th>\n",
       "      <td>1.00000</td>\n",
       "      <td>0.053780</td>\n",
       "      <td>-0.536850</td>\n",
       "    </tr>\n",
       "    <tr>\n",
       "      <th>Location Lat</th>\n",
       "      <td>0.05378</td>\n",
       "      <td>1.000000</td>\n",
       "      <td>-0.197473</td>\n",
       "    </tr>\n",
       "    <tr>\n",
       "      <th>Location Lng</th>\n",
       "      <td>-0.53685</td>\n",
       "      <td>-0.197473</td>\n",
       "      <td>1.000000</td>\n",
       "    </tr>\n",
       "  </tbody>\n",
       "</table>\n",
       "</div>"
      ],
      "text/plain": [
       "              Park ID  Location Lat  Location Lng\n",
       "Park ID       1.00000      0.053780     -0.536850\n",
       "Location Lat  0.05378      1.000000     -0.197473\n",
       "Location Lng -0.53685     -0.197473      1.000000"
      ]
     },
     "execution_count": 12,
     "metadata": {},
     "output_type": "execute_result"
    }
   ],
   "source": [
    "number_df=df.select_dtypes(include='number')\n",
    "corr_m=number_df.corr()\n",
    "corr_m"
   ]
  },
  {
   "cell_type": "code",
   "execution_count": 17,
   "metadata": {},
   "outputs": [],
   "source": [
    "Continuous_Column=['Location Lat','Location Lng']\n",
    "Categorical_Column=['Activity Name','Activity Type','Park ID','Height Restrictions','URL','Park Name']"
   ]
  },
  {
   "cell_type": "code",
   "execution_count": 18,
   "metadata": {},
   "outputs": [],
   "source": [
    "def hypothesis_testing(df,Continuous_Column=[],Categorical_Column=[],sample_size=20,sample_rate=0.05):\n",
    "    df=df\n",
    "    # Central limit theoram\n",
    "    onecontinuouscolumn_Result = {}\n",
    "    for column in Continuous_Column:\n",
    "        population = df[column].dropna().to_numpy()  # Drop NaN values and convert column to NumPy array\n",
    "        population_mean = np.mean(population)\n",
    "       \n",
    "        sample_mean = []\n",
    "\n",
    "        # Generate samples and calculate sample mean\n",
    "        for i in range(40):\n",
    "            sample = np.random.choice(population, size=sample_size, replace=True)\n",
    "            sample_mean.append(np.mean(sample))\n",
    "\n",
    "        onecontinuouscolumn_Result[column] = {\n",
    "            \"Population Mean\": population_mean,\n",
    "            \"Sample Mean\": np.mean(sample_mean)\n",
    "        }\n",
    "    return onecontinuouscolumn_Result"
   ]
  },
  {
   "cell_type": "code",
   "execution_count": 19,
   "metadata": {},
   "outputs": [],
   "source": [
    "ContinuousColumn_Result=hypothesis_testing(df,Continuous_Column)"
   ]
  },
  {
   "cell_type": "code",
   "execution_count": 20,
   "metadata": {},
   "outputs": [
    {
     "data": {
      "text/html": [
       "<div>\n",
       "<style scoped>\n",
       "    .dataframe tbody tr th:only-of-type {\n",
       "        vertical-align: middle;\n",
       "    }\n",
       "\n",
       "    .dataframe tbody tr th {\n",
       "        vertical-align: top;\n",
       "    }\n",
       "\n",
       "    .dataframe thead th {\n",
       "        text-align: right;\n",
       "    }\n",
       "</style>\n",
       "<table border=\"1\" class=\"dataframe\">\n",
       "  <thead>\n",
       "    <tr style=\"text-align: right;\">\n",
       "      <th></th>\n",
       "      <th>Location Lat</th>\n",
       "      <th>Location Lng</th>\n",
       "    </tr>\n",
       "  </thead>\n",
       "  <tbody>\n",
       "    <tr>\n",
       "      <th>Population Mean</th>\n",
       "      <td>28.376575</td>\n",
       "      <td>-81.566510</td>\n",
       "    </tr>\n",
       "    <tr>\n",
       "      <th>Sample Mean</th>\n",
       "      <td>28.376594</td>\n",
       "      <td>-81.566749</td>\n",
       "    </tr>\n",
       "  </tbody>\n",
       "</table>\n",
       "</div>"
      ],
      "text/plain": [
       "                 Location Lat  Location Lng\n",
       "Population Mean     28.376575    -81.566510\n",
       "Sample Mean         28.376594    -81.566749"
      ]
     },
     "execution_count": 20,
     "metadata": {},
     "output_type": "execute_result"
    }
   ],
   "source": [
    "ContinuousColumn_Result_df=pd.DataFrame(ContinuousColumn_Result)\n",
    "ContinuousColumn_Result_df"
   ]
  }
 ],
 "metadata": {
  "kernelspec": {
   "display_name": ".venv",
   "language": "python",
   "name": "python3"
  },
  "language_info": {
   "codemirror_mode": {
    "name": "ipython",
    "version": 3
   },
   "file_extension": ".py",
   "mimetype": "text/x-python",
   "name": "python",
   "nbconvert_exporter": "python",
   "pygments_lexer": "ipython3",
   "version": "3.11.9"
  }
 },
 "nbformat": 4,
 "nbformat_minor": 2
}
